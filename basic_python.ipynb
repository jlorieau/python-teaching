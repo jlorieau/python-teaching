{
 "cells": [
  {
   "cell_type": "markdown",
   "metadata": {},
   "source": [
    "# Python Overview"
   ]
  },
  {
   "cell_type": "markdown",
   "metadata": {},
   "source": [
    "## Data Types"
   ]
  },
  {
   "cell_type": "markdown",
   "metadata": {},
   "source": [
    "Python has a set of *basic data types* for storing information. These include types for: \n",
    "\n",
    "* storing text (`string` or `str`), \n",
    "* integer numbers (`int` or `long`), \n",
    "* rational real numbers (`float`), \n",
    "* complex numbers (`complex`), \n",
    "* True-or-False values (`bool`)\n",
    "\n",
    "These can be stored as values in variables, and operations can be conducted on them."
   ]
  },
  {
   "cell_type": "code",
   "execution_count": 1,
   "metadata": {
    "collapsed": false
   },
   "outputs": [
    {
     "name": "stdout",
     "output_type": "stream",
     "text": [
      "11\n"
     ]
    }
   ],
   "source": [
    "first_number = 5\n",
    "second_number = 6\n",
    "print(first_number + second_number)"
   ]
  },
  {
   "cell_type": "markdown",
   "metadata": {},
   "source": [
    "Additionally, Python has *sequence types* for collecting a series of basic or sequence types.\n",
    "\n",
    "* list (`list`)\n",
    "* tuple (`tuple`)\n",
    "* set (`set`)\n",
    "* dictionaries (`dict`)\n",
    "* string (`str`)\n",
    "\n",
    "These can be accessed using the array notation, using square brackets."
   ]
  },
  {
   "cell_type": "code",
   "execution_count": 4,
   "metadata": {
    "collapsed": false
   },
   "outputs": [
    {
     "name": "stdout",
     "output_type": "stream",
     "text": [
      "[1, 'a', True, 'Fox', 4.3234]\n",
      "Fox\n"
     ]
    }
   ],
   "source": [
    "a_list = [1, 'a', True, 'Fox', 4.3234]\n",
    "print(a_list)\n",
    "\n",
    "# Access the fourth item. Array counts start from 0, so use index item '3'.\n",
    "print(a_list[3])"
   ]
  },
  {
   "cell_type": "markdown",
   "metadata": {},
   "source": [
    "Python includes functions and short hand versions of sequence types for creating core sequence types.\n",
    "\n",
    "* `list` types use square brackets: [  and ]\n",
    "* `tuple` types use parentheses: ( and )\n",
    "* `str` types use *matched* single, double or triple quotes: ', '', ''', \", \"\", \"\"\""
   ]
  },
  {
   "cell_type": "code",
   "execution_count": 5,
   "metadata": {
    "collapsed": true
   },
   "outputs": [],
   "source": [
    "a_list = [1, 2, 3]\n",
    "a_tuple = (1, 2, 3)\n",
    "a_string = \"The red brown fox\""
   ]
  },
  {
   "cell_type": "markdown",
   "metadata": {},
   "source": [
    "Core types and some sequence types, like the `tuple`, are immutable--i.e. they cannot be changed, only replaced. Replacement of immutable types happens transparently but may become an issue in dealing with certain types."
   ]
  },
  {
   "cell_type": "code",
   "execution_count": 6,
   "metadata": {
    "collapsed": false
   },
   "outputs": [
    {
     "name": "stdout",
     "output_type": "stream",
     "text": [
      "[1, 2, 3]\n",
      "[1, 'a', 3]\n"
     ]
    }
   ],
   "source": [
    "print(a_list)\n",
    "a_list[1] = 'a'\n",
    "print(a_list)"
   ]
  },
  {
   "cell_type": "code",
   "execution_count": 7,
   "metadata": {
    "collapsed": false
   },
   "outputs": [
    {
     "name": "stdout",
     "output_type": "stream",
     "text": [
      "(1, 2, 3)\n"
     ]
    },
    {
     "ename": "TypeError",
     "evalue": "'tuple' object does not support item assignment",
     "output_type": "error",
     "traceback": [
      "\u001b[0;31m---------------------------------------------------------------------------\u001b[0m",
      "\u001b[0;31mTypeError\u001b[0m                                 Traceback (most recent call last)",
      "\u001b[0;32m<ipython-input-7-ff89dcf56725>\u001b[0m in \u001b[0;36m<module>\u001b[0;34m()\u001b[0m\n\u001b[1;32m      1\u001b[0m \u001b[0;32mprint\u001b[0m\u001b[0;34m(\u001b[0m\u001b[0ma_tuple\u001b[0m\u001b[0;34m)\u001b[0m\u001b[0;34m\u001b[0m\u001b[0m\n\u001b[0;32m----> 2\u001b[0;31m \u001b[0ma_tuple\u001b[0m\u001b[0;34m[\u001b[0m\u001b[0;36m1\u001b[0m\u001b[0;34m]\u001b[0m \u001b[0;34m=\u001b[0m \u001b[0;34m'a'\u001b[0m\u001b[0;34m\u001b[0m\u001b[0m\n\u001b[0m",
      "\u001b[0;31mTypeError\u001b[0m: 'tuple' object does not support item assignment"
     ]
    }
   ],
   "source": [
    "print(a_tuple)\n",
    "a_tuple[1] = 'a'"
   ]
  },
  {
   "cell_type": "markdown",
   "metadata": {},
   "source": [
    "## Assignment"
   ]
  },
  {
   "cell_type": "markdown",
   "metadata": {},
   "source": [
    "Data type values can be assigned to variables.\n",
    "\n",
    "Variable names must start with a letter, though they may contain numbers, and they musn't include spaces. They should also not take on the values of special Python statements, like `if` or `for`."
   ]
  },
  {
   "cell_type": "code",
   "execution_count": 14,
   "metadata": {
    "collapsed": true
   },
   "outputs": [],
   "source": [
    "my_1st_variable = 1"
   ]
  },
  {
   "cell_type": "markdown",
   "metadata": {},
   "source": [
    "Variables are assigned and modified using assignment operators.\n",
    "\n",
    "| Operator | Meaning                |\n",
    "|----------|------------------------|\n",
    "|   `=`    | Assign (make equal to) |\n",
    "|   `+=`   | Add and reassign       |\n",
    "|   `-=`   | Subtract and reassign  |\n",
    "|   `*=`   | Mutliply and reassign  |\n",
    "|   `/=`   | Divide and reassign    |"
   ]
  },
  {
   "cell_type": "code",
   "execution_count": 15,
   "metadata": {
    "collapsed": false
   },
   "outputs": [
    {
     "name": "stdout",
     "output_type": "stream",
     "text": [
      "2\n"
     ]
    }
   ],
   "source": [
    "my_2nd_variable = 1\n",
    "my_2nd_variable += 1\n",
    "print(my_2nd_variable)"
   ]
  },
  {
   "cell_type": "markdown",
   "metadata": {},
   "source": [
    "## Comparisons"
   ]
  },
  {
   "cell_type": "markdown",
   "metadata": {},
   "source": [
    "Comparisons are used to evaluate the order and values of datatypes. Comparisons of core data types follow mathematical semantics. The built-in comparison operators are:\n",
    "\n",
    "| Operator  | Meaning             |\n",
    "|-----------|---------------------|\n",
    "|    `>`    | Greater than        |\n",
    "|    `>=`   | Greater or equal to |\n",
    "|    `<`    | Lesser than         |\n",
    "|    `<=`   | Smaller or equal to |\n",
    "|    `==`   | Equal<sup>1</sup>   | \n",
    "\n",
    "<sup>1</sup>: Note that the equal comparison operator is not the same as the assignment operator, `=`."
   ]
  },
  {
   "cell_type": "code",
   "execution_count": 8,
   "metadata": {
    "collapsed": false
   },
   "outputs": [
    {
     "name": "stdout",
     "output_type": "stream",
     "text": [
      "True\n"
     ]
    }
   ],
   "source": [
    "print(1 < 2)"
   ]
  },
  {
   "cell_type": "code",
   "execution_count": 9,
   "metadata": {
    "collapsed": false
   },
   "outputs": [
    {
     "name": "stdout",
     "output_type": "stream",
     "text": [
      "False\n"
     ]
    }
   ],
   "source": [
    "print(1 == 2)"
   ]
  },
  {
   "cell_type": "code",
   "execution_count": 10,
   "metadata": {
    "collapsed": false
   },
   "outputs": [
    {
     "name": "stdout",
     "output_type": "stream",
     "text": [
      "False\n"
     ]
    }
   ],
   "source": [
    "print(1 > 2)"
   ]
  },
  {
   "cell_type": "markdown",
   "metadata": {},
   "source": [
    "Comparisons are used to make decisions on variables and to sort values in sequence types."
   ]
  },
  {
   "cell_type": "code",
   "execution_count": 11,
   "metadata": {
    "collapsed": false
   },
   "outputs": [
    {
     "name": "stdout",
     "output_type": "stream",
     "text": [
      "The number is smaller or equal to 5.\n"
     ]
    }
   ],
   "source": [
    "a_number = 3\n",
    "\n",
    "if a_number <= 5:\n",
    "    print(\"The number is smaller or equal to 5.\")"
   ]
  },
  {
   "cell_type": "code",
   "execution_count": 12,
   "metadata": {
    "collapsed": false
   },
   "outputs": [
    {
     "name": "stdout",
     "output_type": "stream",
     "text": [
      "[3, 1, 6, 3, 8, 9, 123, 0]\n"
     ]
    }
   ],
   "source": [
    "a_list = [3,1,6,3,8,9,123,0]\n",
    "print(a_list)"
   ]
  },
  {
   "cell_type": "code",
   "execution_count": 13,
   "metadata": {
    "collapsed": false
   },
   "outputs": [
    {
     "name": "stdout",
     "output_type": "stream",
     "text": [
      "[0, 1, 3, 3, 6, 8, 9, 123]\n"
     ]
    }
   ],
   "source": [
    "a_list = sorted(a_list)\n",
    "print(a_list)"
   ]
  },
  {
   "cell_type": "markdown",
   "metadata": {},
   "source": [
    "## Statements"
   ]
  },
  {
   "cell_type": "markdown",
   "metadata": {},
   "source": [
    "Certain keywords, statements and built-in functions have a special meaning in Python.\n",
    "\n",
    "Flow control statements conduct instructions selectively, depending on whether certain are True or False.\n",
    "\n",
    "A condition is first tested, and all of the *sub-commands* under the control flow statement are executed. Sub-commands \n",
    "are idenfitied by lines indented from the command line.\n",
    "\n",
    "A flow control statement ends with a colon, `:`.\n",
    "\n",
    "**Table**: Flow control statements\n",
    "\n",
    "| Statement   | Meaning                                                                 |\n",
    "|-------------|-------------------------------------------------------------------------|\n",
    "| if          | Conduct the following subcommands if the statement is `True`            |\n",
    "| elif        | Otherwise conduct the following subcommands if this statement is `True` |\n",
    "| else        | If none of the above statements were `True` then conduct the following  |\n",
    "| pass        | Do nothing                                                              |\n"
   ]
  },
  {
   "cell_type": "code",
   "execution_count": 19,
   "metadata": {
    "collapsed": false,
    "scrolled": false
   },
   "outputs": [
    {
     "name": "stdout",
     "output_type": "stream",
     "text": [
      "This number is 2.\n"
     ]
    }
   ],
   "source": [
    "a_number = 2\n",
    "\n",
    "if a_number < 2:\n",
    "    print('This number is smaller than 2.')\n",
    "elif a_number == 2:\n",
    "    print('This number is 2.')\n",
    "else:\n",
    "    pass"
   ]
  },
  {
   "cell_type": "markdown",
   "metadata": {},
   "source": [
    "Iteration control statements are used to conduct commands on a sequence of elements. \n",
    "\n",
    "Some sequences have an order, like `list` and `tuple`, and some sequences do not, like `dict` and `set`, and the order may change every time the Python program is run.\n",
    "\n",
    "**Table**: Loop and iteraction control statements\n",
    "\n",
    "| Statement   | Meaning                                                                   |\n",
    "|-------------|---------------------------------------------------------------------------|\n",
    "| for/in      | Conduct the following subcommands for each item in the sequence. ie, loop |\n",
    "| break       | Break from the current loop. ie, exit from the loop and continue          |\n",
    "| continue    | Skip the rest of the subcommands for this loop iteration                  |\n",
    "| while       | Repeat the following subcommands until this condition is `True`           |\n"
   ]
  },
  {
   "cell_type": "code",
   "execution_count": 20,
   "metadata": {
    "collapsed": false
   },
   "outputs": [
    {
     "name": "stdout",
     "output_type": "stream",
     "text": [
      "1\n",
      "2\n",
      "3\n"
     ]
    }
   ],
   "source": [
    "for i in [1, 2, 3]:\n",
    "    print(i)"
   ]
  },
  {
   "cell_type": "code",
   "execution_count": 22,
   "metadata": {
    "collapsed": false
   },
   "outputs": [
    {
     "name": "stdout",
     "output_type": "stream",
     "text": [
      "1\n",
      "3\n",
      "4\n"
     ]
    }
   ],
   "source": [
    "for i in [1, 2, 3, 4, 5, 6]:\n",
    "    if i == 2:\n",
    "        continue\n",
    "    elif i == 5:\n",
    "        break\n",
    "    else:\n",
    "        print(i)"
   ]
  },
  {
   "cell_type": "code",
   "execution_count": 23,
   "metadata": {
    "collapsed": false
   },
   "outputs": [
    {
     "name": "stdout",
     "output_type": "stream",
     "text": [
      "0\n",
      "1\n",
      "2\n",
      "3\n",
      "4\n"
     ]
    }
   ],
   "source": [
    "i=0\n",
    "while i < 5:\n",
    "    print(i)\n",
    "    i += 1"
   ]
  }
 ],
 "metadata": {
  "kernelspec": {
   "display_name": "Python 2",
   "language": "python",
   "name": "python2"
  },
  "language_info": {
   "codemirror_mode": {
    "name": "ipython",
    "version": 2
   },
   "file_extension": ".py",
   "mimetype": "text/x-python",
   "name": "python",
   "nbconvert_exporter": "python",
   "pygments_lexer": "ipython2",
   "version": "2.7.10"
  }
 },
 "nbformat": 4,
 "nbformat_minor": 0
}
