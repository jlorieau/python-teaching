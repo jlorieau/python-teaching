{
 "cells": [
  {
   "cell_type": "markdown",
   "metadata": {},
   "source": [
    "# Python Overview"
   ]
  },
  {
   "cell_type": "markdown",
   "metadata": {},
   "source": [
    "## Data Types"
   ]
  },
  {
   "cell_type": "markdown",
   "metadata": {},
   "source": [
    "Python has a set of *basic data types* for storing information. These include types for: \n",
    "\n",
    "* storing text (`string` or `str`), \n",
    "* integer numbers (`int` or `long`), \n",
    "* rational real numbers (`float`), \n",
    "* complex numbers (`complex`), \n",
    "* True-or-False values (`bool`)\n",
    "\n",
    "These can be stored as values in variables, and operations can be conducted on them."
   ]
  },
  {
   "cell_type": "code",
   "execution_count": 1,
   "metadata": {
    "collapsed": false
   },
   "outputs": [
    {
     "name": "stdout",
     "output_type": "stream",
     "text": [
      "11\n"
     ]
    }
   ],
   "source": [
    "first_number = 5\n",
    "second_number = 6\n",
    "print(first_number + second_number)"
   ]
  },
  {
   "cell_type": "markdown",
   "metadata": {},
   "source": [
    "Additionally, Python has *sequence types* for collecting a series of basic or sequence types.\n",
    "\n",
    "* list (`list`)\n",
    "* tuple (`tuple`)\n",
    "* set (`set`)\n",
    "* dictionaries (`dict`)\n",
    "* string (`str`)\n",
    "\n",
    "These can be accessed using the array notation, using square brackets."
   ]
  },
  {
   "cell_type": "code",
   "execution_count": 4,
   "metadata": {
    "collapsed": false
   },
   "outputs": [
    {
     "name": "stdout",
     "output_type": "stream",
     "text": [
      "[1, 'a', True, 'Fox', 4.3234]\n",
      "Fox\n"
     ]
    }
   ],
   "source": [
    "a_list = [1, 'a', True, 'Fox', 4.3234]\n",
    "print(a_list)\n",
    "\n",
    "# Access the fourth item. Array counts start from 0, so use index item '3'.\n",
    "print(a_list[3])"
   ]
  },
  {
   "cell_type": "markdown",
   "metadata": {},
   "source": [
    "Python includes functions and short hand version, known as *comprehensions*, for creating core sequence types."
   ]
  },
  {
   "cell_type": "code",
   "execution_count": null,
   "metadata": {
    "collapsed": true
   },
   "outputs": [],
   "source": []
  },
  {
   "cell_type": "markdown",
   "metadata": {},
   "source": [
    "Core types and some sequence types, like the `tuple`, are immutable--i.e. they cannot be changed, only replaced. Replacement of immutable types happens transparently but may become an issue in dealing with certain types."
   ]
  },
  {
   "cell_type": "code",
   "execution_count": null,
   "metadata": {
    "collapsed": true
   },
   "outputs": [],
   "source": [
    "a_tuple = (2, 'b', False, 'Brown', 3.1416)"
   ]
  }
 ],
 "metadata": {
  "kernelspec": {
   "display_name": "Python 2",
   "language": "python",
   "name": "python2"
  },
  "language_info": {
   "codemirror_mode": {
    "name": "ipython",
    "version": 2
   },
   "file_extension": ".py",
   "mimetype": "text/x-python",
   "name": "python",
   "nbconvert_exporter": "python",
   "pygments_lexer": "ipython2",
   "version": "2.7.10"
  }
 },
 "nbformat": 4,
 "nbformat_minor": 0
}
